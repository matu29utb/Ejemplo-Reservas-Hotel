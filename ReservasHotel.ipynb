{
 "cells": [
  {
   "cell_type": "code",
   "execution_count": 1,
   "metadata": {},
   "outputs": [
    {
     "name": "stdout",
     "output_type": "stream",
     "text": [
      "         id  numAdultos  numNiños  nochesFinde  nochesEntreSemana  \\\n",
      "0  INN00001           2         0            1                  2   \n",
      "1  INN00002           2         0            2                  3   \n",
      "2  INN00003           1         0            2                  1   \n",
      "3  INN00004           2         0            0                  2   \n",
      "4  INN00005           2         0            1                  1   \n",
      "\n",
      "  tipoPlanComidas  parking tipoHabitacion  antelacionReserva  añoLlegada  \\\n",
      "0     Meal Plan 1        0    Room_Type 1                224        2017   \n",
      "1    Not Selected        0    Room_Type 1                  5        2018   \n",
      "2     Meal Plan 1        0    Room_Type 1                  1        2018   \n",
      "3     Meal Plan 1        0    Room_Type 1                211        2018   \n",
      "4    Not Selected        0    Room_Type 1                 48        2018   \n",
      "\n",
      "   mesLlegada  diaLlegada segmentoMercado  clienteRepetido  \\\n",
      "0          10           2         Offline                0   \n",
      "1          11           6          Online                0   \n",
      "2           2          28          Online                0   \n",
      "3           5          20          Online                0   \n",
      "4           4          11          Online                0   \n",
      "\n",
      "   numCancelacionesPrevias  numReservasPreviasNoCanceladas  \\\n",
      "0                        0                               0   \n",
      "1                        0                               0   \n",
      "2                        0                               0   \n",
      "3                        0                               0   \n",
      "4                        0                               0   \n",
      "\n",
      "   precioMedioHabitacion  numSolicitudesEspeciales estadoReserva  \n",
      "0                  65.00                         0  Not_Canceled  \n",
      "1                 106.68                         1  Not_Canceled  \n",
      "2                  60.00                         0      Canceled  \n",
      "3                 100.00                         0      Canceled  \n",
      "4                  94.50                         0      Canceled  \n"
     ]
    }
   ],
   "source": [
    "import pandas as pd\n",
    "\n",
    "# Leer el archivo CSV\n",
    "nombre_archivo = 'Hotel_Reservations.csv'\n",
    "datos = pd.read_csv(nombre_archivo)\n",
    "\n",
    "# Mostrar las primeras filas de datos para verificar la lectura\n",
    "print(datos.head())\n"
   ]
  },
  {
   "cell_type": "code",
   "execution_count": 8,
   "metadata": {},
   "outputs": [
    {
     "name": "stdout",
     "output_type": "stream",
     "text": [
      "Index(['id', 'numAdultos', 'numNiños', 'nochesFinde', 'nochesEntreSemana',\n",
      "       'tipoPlanComidas', 'parking', 'tipoHabitacion', 'antelacionReserva',\n",
      "       'añoLlegada', 'mesLlegada', 'diaLlegada', 'segmentoMercado',\n",
      "       'clienteRepetido', 'numCancelacionesPrevias',\n",
      "       'numReservasPreviasNoCanceladas', 'precioMedioHabitacion',\n",
      "       'numSolicitudesEspeciales', 'estadoReserva'],\n",
      "      dtype='object')\n"
     ]
    }
   ],
   "source": [
    "# Obtener los encabezados de las columnas\n",
    "encabezados = datos.columns\n",
    "\n",
    "print(encabezados)"
   ]
  },
  {
   "cell_type": "code",
   "execution_count": 10,
   "metadata": {},
   "outputs": [
    {
     "name": "stdout",
     "output_type": "stream",
     "text": [
      "         numAdultos      numNiños   nochesFinde  nochesEntreSemana  \\\n",
      "count  36275.000000  36275.000000  36275.000000       36275.000000   \n",
      "mean       1.844962      0.105279      0.810724           2.204300   \n",
      "std        0.518715      0.402648      0.870644           1.410905   \n",
      "min        0.000000      0.000000      0.000000           0.000000   \n",
      "25%        2.000000      0.000000      0.000000           1.000000   \n",
      "50%        2.000000      0.000000      1.000000           2.000000   \n",
      "75%        2.000000      0.000000      2.000000           3.000000   \n",
      "max        4.000000     10.000000      7.000000          17.000000   \n",
      "\n",
      "            parking  antelacionReserva    añoLlegada    mesLlegada  \\\n",
      "count  36275.000000       36275.000000  36275.000000  36275.000000   \n",
      "mean       0.030986          85.232557   2017.820427      7.423653   \n",
      "std        0.173281          85.930817      0.383836      3.069894   \n",
      "min        0.000000           0.000000   2017.000000      1.000000   \n",
      "25%        0.000000          17.000000   2018.000000      5.000000   \n",
      "50%        0.000000          57.000000   2018.000000      8.000000   \n",
      "75%        0.000000         126.000000   2018.000000     10.000000   \n",
      "max        1.000000         443.000000   2018.000000     12.000000   \n",
      "\n",
      "         diaLlegada  clienteRepetido  numCancelacionesPrevias  \\\n",
      "count  36275.000000     36275.000000             36275.000000   \n",
      "mean      15.596995         0.025637                 0.023349   \n",
      "std        8.740447         0.158053                 0.368331   \n",
      "min        1.000000         0.000000                 0.000000   \n",
      "25%        8.000000         0.000000                 0.000000   \n",
      "50%       16.000000         0.000000                 0.000000   \n",
      "75%       23.000000         0.000000                 0.000000   \n",
      "max       31.000000         1.000000                13.000000   \n",
      "\n",
      "       numReservasPreviasNoCanceladas  precioMedioHabitacion  \\\n",
      "count                    36275.000000           36275.000000   \n",
      "mean                         0.153411             103.423539   \n",
      "std                          1.754171              35.089424   \n",
      "min                          0.000000               0.000000   \n",
      "25%                          0.000000              80.300000   \n",
      "50%                          0.000000              99.450000   \n",
      "75%                          0.000000             120.000000   \n",
      "max                         58.000000             540.000000   \n",
      "\n",
      "       numSolicitudesEspeciales  \n",
      "count              36275.000000  \n",
      "mean                   0.619655  \n",
      "std                    0.786236  \n",
      "min                    0.000000  \n",
      "25%                    0.000000  \n",
      "50%                    0.000000  \n",
      "75%                    1.000000  \n",
      "max                    5.000000  \n",
      "         numAdultos      numNiños   nochesFinde  nochesEntreSemana  \\\n",
      "count  36275.000000  36275.000000  36275.000000       36275.000000   \n",
      "mean       1.844962      0.105279      0.810724           2.204300   \n",
      "std        0.518715      0.402648      0.870644           1.410905   \n",
      "min        0.000000      0.000000      0.000000           0.000000   \n",
      "25%        2.000000      0.000000      0.000000           1.000000   \n",
      "50%        2.000000      0.000000      1.000000           2.000000   \n",
      "75%        2.000000      0.000000      2.000000           3.000000   \n",
      "max        4.000000     10.000000      7.000000          17.000000   \n",
      "\n",
      "            parking  antelacionReserva    añoLlegada    mesLlegada  \\\n",
      "count  36275.000000       36275.000000  36275.000000  36275.000000   \n",
      "mean       0.030986          85.232557   2017.820427      7.423653   \n",
      "std        0.173281          85.930817      0.383836      3.069894   \n",
      "min        0.000000           0.000000   2017.000000      1.000000   \n",
      "25%        0.000000          17.000000   2018.000000      5.000000   \n",
      "50%        0.000000          57.000000   2018.000000      8.000000   \n",
      "75%        0.000000         126.000000   2018.000000     10.000000   \n",
      "max        1.000000         443.000000   2018.000000     12.000000   \n",
      "\n",
      "         diaLlegada  clienteRepetido  numCancelacionesPrevias  \\\n",
      "count  36275.000000     36275.000000             36275.000000   \n",
      "mean      15.596995         0.025637                 0.023349   \n",
      "std        8.740447         0.158053                 0.368331   \n",
      "min        1.000000         0.000000                 0.000000   \n",
      "25%        8.000000         0.000000                 0.000000   \n",
      "50%       16.000000         0.000000                 0.000000   \n",
      "75%       23.000000         0.000000                 0.000000   \n",
      "max       31.000000         1.000000                13.000000   \n",
      "\n",
      "       numReservasPreviasNoCanceladas  precioMedioHabitacion  \\\n",
      "count                    36275.000000           36275.000000   \n",
      "mean                         0.153411             103.423539   \n",
      "std                          1.754171              35.089424   \n",
      "min                          0.000000               0.000000   \n",
      "25%                          0.000000              80.300000   \n",
      "50%                          0.000000              99.450000   \n",
      "75%                          0.000000             120.000000   \n",
      "max                         58.000000             540.000000   \n",
      "\n",
      "       numSolicitudesEspeciales  \n",
      "count              36275.000000  \n",
      "mean                   0.619655  \n",
      "std                    0.786236  \n",
      "min                    0.000000  \n",
      "25%                    0.000000  \n",
      "50%                    0.000000  \n",
      "75%                    1.000000  \n",
      "max                    5.000000  \n"
     ]
    }
   ],
   "source": [
    "# Realizar análisis simple, por ejemplo, calcular estadísticas descriptivas\n",
    "estadisticas_descriptivas = datos.describe()\n",
    "print(estadisticas_descriptivas)"
   ]
  },
  {
   "cell_type": "code",
   "execution_count": 9,
   "metadata": {},
   "outputs": [
    {
     "name": "stdout",
     "output_type": "stream",
     "text": [
      "Media de la columna 'numAdultos': 1.8449620951068229\n"
     ]
    }
   ],
   "source": [
    "# Calcular la media de una columna específica\n",
    "media_columna = datos['numAdultos'].mean()\n",
    "print(f\"Media de la columna 'numAdultos': {media_columna}\")"
   ]
  }
 ],
 "metadata": {
  "kernelspec": {
   "display_name": "Python 3",
   "language": "python",
   "name": "python3"
  },
  "language_info": {
   "codemirror_mode": {
    "name": "ipython",
    "version": 3
   },
   "file_extension": ".py",
   "mimetype": "text/x-python",
   "name": "python",
   "nbconvert_exporter": "python",
   "pygments_lexer": "ipython3",
   "version": "3.11.6"
  },
  "orig_nbformat": 4
 },
 "nbformat": 4,
 "nbformat_minor": 2
}
